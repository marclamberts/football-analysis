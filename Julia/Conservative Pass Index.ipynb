{
 "cells": [
  {
   "cell_type": "code",
   "execution_count": 21,
   "id": "939a3ad5",
   "metadata": {
    "scrolled": true
   },
   "outputs": [
    {
     "name": "stdout",
     "output_type": "stream",
     "text": [
      "Values: [199.14, 99.45, 300.0]\n",
      "Weights: [2, 1, 3]\n"
     ]
    },
    {
     "ename": "LoadError",
     "evalue": "MethodError: objects of type Int64 are not callable\nThe object of type `Int64` exists, but no method is defined for this combination of argument types when trying to treat it as a callable object.\nMaybe you forgot to use an operator such as \u001b[36m*, ^, %, / etc. \u001b[39m?",
     "output_type": "error",
     "traceback": [
      "MethodError: objects of type Int64 are not callable\nThe object of type `Int64` exists, but no method is defined for this combination of argument types when trying to treat it as a callable object.\nMaybe you forgot to use an operator such as \u001b[36m*, ^, %, / etc. \u001b[39m?",
      "",
      "Stacktrace:",
      " [1] harmonic_mean(values::Vector{Float64}, weights::Vector{Int64})",
      "   @ Main ./In[21]:36",
      " [2] (::var\"#79#80\")(i::Int64)",
      "   @ Main ./none:0",
      " [3] iterate",
      "   @ ./generator.jl:48 [inlined]",
      " [4] collect(itr::Base.Generator{UnitRange{Int64}, var\"#79#80\"})",
      "   @ Base ./array.jl:791",
      " [5] top-level scope",
      "   @ In[21]:40"
     ]
    }
   ],
   "source": [
    "using DataFrames\n",
    "using XLSX\n",
    "using Statistics\n",
    "\n",
    "# Load the first sheet of the Excel file into a DataFrame\n",
    "file_path = \"/Users/marclambertes/Downloads/Database Men 2024-2025/Netherlands.xlsx\"\n",
    "df = DataFrame(XLSX.readtable(file_path, 1))  # Load the first sheet by index\n",
    "\n",
    "# Define the columns to check\n",
    "columns_to_check = [\"Accurate back passes, %\", \"Accurate lateral passes, %\", \"Accurate short / medium passes, %\"]\n",
    "\n",
    "# Drop rows with missing values in the specified columns\n",
    "df = filter(row -> all(!ismissing(row[col]) for col in columns_to_check), df)\n",
    "\n",
    "# Filter out rows where any of the metrics are zero\n",
    "df = filter(row -> all(row[col] != 0 for col in columns_to_check), df)\n",
    "\n",
    "# Apply weights to the metrics\n",
    "weights = Dict(\n",
    "    \"Accurate back passes, %\" => 3,\n",
    "    \"Accurate lateral passes, %\" => 2,\n",
    "    \"Accurate short / medium passes, %\" => 1\n",
    ")\n",
    "\n",
    "# Calculate weighted values for each column\n",
    "weighted_values = []\n",
    "for col in collect(keys(weights))\n",
    "    push!(weighted_values, df[!, col] .* weights[col])  # Multiply values by their weights\n",
    "end\n",
    "weighted_matrix = hcat(weighted_values...)\n",
    "\n",
    "# Define the harmonic_mean function\n",
    "function harmonic_mean(values::AbstractVector, weights::AbstractVector)\n",
    "    println(\"Values: $values\")\n",
    "    println(\"Weights: $weights\")\n",
    "    return length(values) / sum(weights ./ values)\n",
    "end\n",
    "\n",
    "# Calculate the weighted harmonic mean\n",
    "df[!, :Weighted_Harmonic_Mean] = [harmonic_mean(weighted_matrix[i, :], collect(values(weights))) for i in 1:size(df, 1)]\n",
    "\n",
    "# Scale the weighted harmonic mean to a range of 0-100\n",
    "min_whmean = minimum(df.Weighted_Harmonic_Mean)\n",
    "max_whmean = maximum(df.Weighted_Harmonic_Mean)\n",
    "\n",
    "df[!, :Weighted_Harmonic_Mean_Scaled] = 100 .* (df.Weighted_Harmonic_Mean .- min_whmean) ./ (max_whmean - min_whmean)\n",
    "\n",
    "# Print player names along with their specific scaled weighted harmonic mean\n",
    "for row in eachrow(df)\n",
    "    println(\"Player: $(row.Player), Scaled Weighted Harmonic Mean: $(row.Weighted_Harmonic_Mean_Scaled)\")\n",
    "end\n",
    "\n",
    "# Save the DataFrame to an Excel file\n",
    "output_path = \"/Users/marclambertes/Downloads/CPI_Bundesliga_Weighted.xlsx\"\n",
    "XLSX.openxlsx(output_path, mode=\"w\") do xf\n",
    "    XLSX.writetable(xf, \"Sheet1\", DataFrame(df))\n",
    "end\n"
   ]
  },
  {
   "cell_type": "code",
   "execution_count": 8,
   "id": "7516ca97",
   "metadata": {},
   "outputs": [
    {
     "name": "stderr",
     "output_type": "stream",
     "text": [
      "\u001b[32m\u001b[1m   Resolving\u001b[22m\u001b[39m package versions...\n",
      "\u001b[32m\u001b[1m    Updating\u001b[22m\u001b[39m `~/.julia/environments/v1.11/Project.toml`\n",
      "  \u001b[90m[10745b16] \u001b[39m\u001b[92m+ Statistics v1.11.1\u001b[39m\n",
      "\u001b[32m\u001b[1m  No Changes\u001b[22m\u001b[39m to `~/.julia/environments/v1.11/Manifest.toml`\n"
     ]
    }
   ],
   "source": [
    "import Pkg; Pkg.add(\"Statistics\")"
   ]
  },
  {
   "cell_type": "code",
   "execution_count": null,
   "id": "a1411ad0",
   "metadata": {},
   "outputs": [],
   "source": []
  }
 ],
 "metadata": {
  "kernelspec": {
   "display_name": "Julia 1.11.2",
   "language": "julia",
   "name": "julia-1.11"
  },
  "language_info": {
   "file_extension": ".jl",
   "mimetype": "application/julia",
   "name": "julia",
   "version": "1.11.2"
  }
 },
 "nbformat": 4,
 "nbformat_minor": 5
}
