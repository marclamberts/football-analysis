import pandas as pd
import numpy as np
from scipy.spatial.distance import cdist

def classify_corner_marking_per_event(df, tight_threshold=2.0):
    attackers = df[df['freeze_frame_teammate'] == True]
    defenders = df[df['freeze_frame_teammate'] == False]

    if attackers.empty or defenders.empty:
        return "Insufficient data", 0, 0
    
    atk_locs = attackers[['freeze_frame_x', 'freeze_frame_y']].to_numpy()
    def_locs = defenders[['freeze_frame_x', 'freeze_frame_y']].to_numpy()
    
    distances = cdist(def_locs, atk_locs)
    
    defender_marking = distances.min(axis=1) < tight_threshold
    
    n_man_marking = np.sum(defender_marking)
    n_zonal = len(defenders) - n_man_marking
    
    proportion_tight = n_man_marking / len(defenders)
    
    if proportion_tight >= 0.7:
        marking_type = "Man-marking"
    elif proportion_tight <= 0.3:
        marking_type = "Zonal marking"
    else:
        marking_type = "Hybrid marking"
    
    return marking_type, n_man_marking, n_zonal


# Load your full freeze frame data
df = pd.read_csv("/kaggle/input/coolcool/Bryne_Bod _ Glimt_3988101.csv")  # Replace with your path

# Filter for corner kicks that ended in shots
corners_with_shots_df = df[
    (df['play_pattern_name'] == "From Corner") &
    (df['event_type_name'] == "Shot")
]

summary_rows = []
for possession, group in corners_with_shots_df.groupby("possession"):
    marking, n_man, n_zonal = classify_corner_marking_per_event(group)
    
    defenders = group[group['freeze_frame_teammate'] == False]
    attackers = group[group['freeze_frame_teammate'] == True]
    
    atk_locs = attackers[['freeze_frame_x', 'freeze_frame_y']].to_numpy()
    def_locs = defenders[['freeze_frame_x', 'freeze_frame_y']].to_numpy()
    
    distances = cdist(def_locs, atk_locs)
    defender_marking = distances.min(axis=1) < 2.0  # Same threshold as classifier
    
    zonal_defenders = defenders.loc[~defender_marking]
    
    # Six-yard box approx: x between 114 and 120, y between 33 and 47
    in_six_yard = zonal_defenders[
        (zonal_defenders['freeze_frame_x'] >= 114) &
        (zonal_defenders['freeze_frame_x'] <= 120) &
        (zonal_defenders['freeze_frame_y'] >= 33) &
        (zonal_defenders['freeze_frame_y'] <= 47)
    ]
    n_zonal_in_six = len(in_six_yard)
    
    summary_rows.append({
        "possession": possession,
        "marking_type": marking,
        "man_marking_count": n_man,
        "zonal_marking_count": n_zonal,
        "zonal_in_six_yard_box": n_zonal_in_six
    })

summary_df = pd.DataFrame(summary_rows)
print(summary_df)
