{
 "cells": [
  {
   "cell_type": "markdown",
   "id": "a9184dd5",
   "metadata": {},
   "source": [
    "# Shot-Creation, Zone Entries, and Defensive Disruption Analysis"
   ]
  },
  {
   "cell_type": "code",
   "execution_count": null,
   "id": "8e52057b",
   "metadata": {},
   "outputs": [],
   "source": [
    "\n",
    "import pandas as pd\n",
    "\n",
    "# Load your dataset\n",
    "data = pd.read_csv('path_to_your_file.csv')  # Update with your dataset path\n",
    "    "
   ]
  },
  {
   "cell_type": "markdown",
   "id": "3796d0c7",
   "metadata": {},
   "source": [
    "## Step 2: Shot-Creation Model"
   ]
  },
  {
   "cell_type": "code",
   "execution_count": null,
   "id": "1cf3db46",
   "metadata": {},
   "outputs": [],
   "source": [
    "\n",
    "# Filter for shot-creating actions (passes, crosses, assists, etc.)\n",
    "shot_creating_actions = data[\n",
    "    (data['keyPass'] == 1) | \n",
    "    (data['assist'] == 1) |\n",
    "    (data['Cross'] == 1)\n",
    "]\n",
    "\n",
    "# Count total SCAs per player or team\n",
    "sca_per_player = shot_creating_actions.groupby('playerId')['id'].count().reset_index()\n",
    "sca_per_player.columns = ['playerId', 'SCAs']\n",
    "\n",
    "print(\"Shot-Creation Actions (SCA) per Player:\")\n",
    "print(sca_per_player)\n",
    "    "
   ]
  },
  {
   "cell_type": "markdown",
   "id": "e1997a36",
   "metadata": {},
   "source": [
    "## Step 6: Zone Entries"
   ]
  },
  {
   "cell_type": "code",
   "execution_count": null,
   "id": "215bc738",
   "metadata": {},
   "outputs": [],
   "source": [
    "\n",
    "# Define final third and penalty area zones\n",
    "final_third_threshold = 66  # Example: X > 66% of the pitch is the final third\n",
    "penalty_area_threshold = 80  # Example: X > 80% marks penalty area\n",
    "\n",
    "# Filter for zone entries\n",
    "zone_entries = data[\n",
    "    ((data['x'] > final_third_threshold) & (data['typeId'].isin([31, 32]))) |  # Passes into final third\n",
    "    ((data['x'] > penalty_area_threshold) & (data['typeId'].isin([31, 32])))   # Passes into penalty area\n",
    "]\n",
    "\n",
    "# Count entries by player or team\n",
    "zone_entries_summary = zone_entries.groupby('playerId')['id'].count().reset_index()\n",
    "zone_entries_summary.columns = ['playerId', 'Zone Entries']\n",
    "\n",
    "print(\"\\nZone Entries per Player:\")\n",
    "print(zone_entries_summary)\n",
    "    "
   ]
  },
  {
   "cell_type": "markdown",
   "id": "366c67b1",
   "metadata": {},
   "source": [
    "## Step 8: Defensive Disruption Analysis"
   ]
  },
  {
   "cell_type": "code",
   "execution_count": null,
   "id": "9c811119",
   "metadata": {},
   "outputs": [],
   "source": [
    "\n",
    "# Filter for defensive actions (interceptions, tackles, blocks, etc.)\n",
    "defensive_actions = data[\n",
    "    (data['typeId'].isin([12, 13, 14])) &  # Example: Interceptions, tackles, and blocks\n",
    "    (data['outcome'] == 1)                # Successful defensive actions\n",
    "]\n",
    "\n",
    "# Count defensive actions disrupting opponent attacks\n",
    "defensive_disruptions = defensive_actions.groupby('playerId')['id'].count().reset_index()\n",
    "defensive_disruptions.columns = ['playerId', 'Disruptions']\n",
    "\n",
    "print(\"\\nDefensive Disruptions per Player:\")\n",
    "print(defensive_disruptions)\n",
    "    "
   ]
  },
  {
   "cell_type": "markdown",
   "id": "13fffded",
   "metadata": {},
   "source": [
    "## Save Results to CSV"
   ]
  },
  {
   "cell_type": "code",
   "execution_count": null,
   "id": "4bf8d8de",
   "metadata": {},
   "outputs": [],
   "source": [
    "\n",
    "# Save results to CSV for further analysis\n",
    "sca_per_player.to_csv('sca_per_player.csv', index=False)\n",
    "zone_entries_summary.to_csv('zone_entries_summary.csv', index=False)\n",
    "defensive_disruptions.to_csv('defensive_disruptions.csv', index=False)\n",
    "\n",
    "print(\"Results saved as CSV files.\")\n",
    "    "
   ]
  }
 ],
 "metadata": {},
 "nbformat": 4,
 "nbformat_minor": 5
}