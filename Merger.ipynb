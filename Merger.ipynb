{
 "cells": [
  {
   "cell_type": "code",
   "execution_count": 1,
   "id": "706a5559-3018-48fc-b970-8479199c47eb",
   "metadata": {},
   "outputs": [],
   "source": [
    "import pandas as pd\n",
    "\n",
    "# Read both Excel files\n",
    "file1 = pd.read_excel('filtered_goals_all_matches.xlsx')\n",
    "file2 = pd.read_excel('db.xlsx')\n",
    "\n",
    "# Merge the files (concatenate vertically)\n",
    "merged_data = pd.concat([file1, file2], ignore_index=True)\n",
    "\n",
    "# Save the merged data to a new Excel file\n",
    "merged_data.to_excel('db.xlsx', index=False)"
   ]
  },
  {
   "cell_type": "code",
   "execution_count": 2,
   "id": "40495634-e88f-4703-8ccf-6808a254ca2f",
   "metadata": {},
   "outputs": [],
   "source": [
    "import pandas as pd\n",
    "\n",
    "# Load the Excel file\n",
    "df = pd.read_excel('db.xlsx')\n",
    "\n",
    "# Remove duplicate rows\n",
    "df_cleaned = df.drop_duplicates()\n",
    "\n",
    "# Save the cleaned data back to the same file or a new one\n",
    "df_cleaned.to_excel('db.xlsx', index=False)\n"
   ]
  },
  {
   "cell_type": "code",
   "execution_count": null,
   "id": "d7d49c0d-9a94-4b09-88fb-6b6dd995cd03",
   "metadata": {},
   "outputs": [],
   "source": []
  }
 ],
 "metadata": {
  "kernelspec": {
   "display_name": "Python [conda env:base] *",
   "language": "python",
   "name": "conda-base-py"
  },
  "language_info": {
   "codemirror_mode": {
    "name": "ipython",
    "version": 3
   },
   "file_extension": ".py",
   "mimetype": "text/x-python",
   "name": "python",
   "nbconvert_exporter": "python",
   "pygments_lexer": "ipython3",
   "version": "3.12.2"
  }
 },
 "nbformat": 4,
 "nbformat_minor": 5
}
