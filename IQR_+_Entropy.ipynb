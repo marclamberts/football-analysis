{
  "nbformat": 4,
  "nbformat_minor": 0,
  "metadata": {
    "colab": {
      "provenance": [],
      "authorship_tag": "ABX9TyPWGg2k7QHm5HPHVM3QEUp5",
      "include_colab_link": true
    },
    "kernelspec": {
      "name": "python3",
      "display_name": "Python 3"
    },
    "language_info": {
      "name": "python"
    }
  },
  "cells": [
    {
      "cell_type": "markdown",
      "metadata": {
        "id": "view-in-github",
        "colab_type": "text"
      },
      "source": [
        "<a href=\"https://colab.research.google.com/github/marclamberts/football-analysis/blob/main/IQR_%2B_Entropy.ipynb\" target=\"_parent\"><img src=\"https://colab.research.google.com/assets/colab-badge.svg\" alt=\"Open In Colab\"/></a>"
      ]
    },
    {
      "cell_type": "code",
      "execution_count": 1,
      "metadata": {
        "colab": {
          "base_uri": "https://localhost:8080/"
        },
        "id": "XBVl9fOu6n_C",
        "outputId": "2949e34b-548c-4d91-d7f4-fc71c911132a"
      },
      "outputs": [
        {
          "output_type": "stream",
          "name": "stdout",
          "text": [
            "Mounted at /content/drive\n"
          ]
        }
      ],
      "source": [
        "# Step 1: Mount Google Drive\n",
        "from google.colab import drive\n",
        "drive.mount('/content/drive')\n"
      ]
    },
    {
      "cell_type": "code",
      "source": [
        "# Step 2: Import necessary libraries\n",
        "import pandas as pd\n",
        "import numpy as np\n",
        "from scipy.stats import iqr, entropy\n",
        "import os\n"
      ],
      "metadata": {
        "id": "pMSnH-I47A6X"
      },
      "execution_count": 2,
      "outputs": []
    },
    {
      "cell_type": "code",
      "source": [
        "# Step 3: Load Excel file from Google Drive\n",
        "# Replace with the path to your file\n",
        "file_path = '/content/drive/MyDrive/Database March 2025/MLS 2025.xlsx'\n",
        "df = pd.read_excel(file_path)\n"
      ],
      "metadata": {
        "id": "OoWuILmH7DyU"
      },
      "execution_count": 3,
      "outputs": []
    },
    {
      "cell_type": "code",
      "source": [
        "goals_per_90_col = [col for col in df.columns if \"Goals per 90\" in col][0]\n",
        "\n",
        "# Step 5: Filter for players with 'CF' in Position and >= 200 Minutes played\n",
        "filtered_df = df[\n",
        "    df['Position'].astype(str).str.contains(\"CF\", case=False, na=False) &\n",
        "    (pd.to_numeric(df['Minutes played'], errors='coerce') >= 200)\n",
        "]\n",
        "\n",
        "# Step 6: Clean and extract Goals per 90 values\n",
        "goals_per_90_filtered = pd.to_numeric(filtered_df[goals_per_90_col], errors='coerce').dropna()\n",
        "\n",
        "# Step 7: Calculate IQR and Entropy\n",
        "filtered_iqr = iqr(goals_per_90_filtered)\n",
        "hist_filtered, _ = np.histogram(goals_per_90_filtered, bins='auto', density=True)\n",
        "filtered_entropy = entropy(hist_filtered)\n",
        "\n",
        "# Step 8: Output results\n",
        "print(\"Filtered players:\", filtered_df.shape[0])\n",
        "print(\"IQR (Goals per 90):\", filtered_iqr)\n",
        "print(\"Entropy (Goals per 90):\", filtered_entropy)\n",
        "# Step 6: (Optional) Add stats to a new DataFrame\n",
        "summary_df = pd.DataFrame({\n",
        "    \"Stat\": [\"Goals per 90 IQR\", \"Goals per 90 Entropy\"],\n",
        "    \"Value\": [goals_iqr, goal_entropy]\n",
        "})\n",
        "# Step 7: Save to Excel in Google Drive\n",
        "output_path = '/content/drive/MyDrive/xDuel/MLS_2025_Processed.xlsx'\n",
        "\n",
        "with pd.ExcelWriter(output_path, engine='xlsxwriter') as writer:\n",
        "    df.to_excel(writer, sheet_name='Original Data', index=False)\n",
        "    summary_df.to_excel(writer, sheet_name='Analysis Summary', index=False)\n",
        "\n",
        "print(\"File saved to Google Drive!\")\n"
      ],
      "metadata": {
        "colab": {
          "base_uri": "https://localhost:8080/"
        },
        "id": "6y88wrnC7HAd",
        "outputId": "bcb75e50-a594-47b8-a1bf-03bd8d81f705"
      },
      "execution_count": 8,
      "outputs": [
        {
          "output_type": "stream",
          "name": "stdout",
          "text": [
            "Filtered players: 52\n",
            "IQR (Goals per 90): 0.29500000000000004\n",
            "Entropy (Goals per 90): 1.692796532714847\n",
            "File saved to Google Drive!\n"
          ]
        }
      ]
    },
    {
      "cell_type": "code",
      "source": [
        "pip install xlsxwriter"
      ],
      "metadata": {
        "colab": {
          "base_uri": "https://localhost:8080/"
        },
        "id": "njhMALHJ7f3n",
        "outputId": "7802a7ee-174e-4a12-c8f8-caea77126b26"
      },
      "execution_count": 5,
      "outputs": [
        {
          "output_type": "stream",
          "name": "stdout",
          "text": [
            "Collecting xlsxwriter\n",
            "  Downloading XlsxWriter-3.2.3-py3-none-any.whl.metadata (2.7 kB)\n",
            "Downloading XlsxWriter-3.2.3-py3-none-any.whl (169 kB)\n",
            "\u001b[?25l   \u001b[90m━━━━━━━━━━━━━━━━━━━━━━━━━━━━━━━━━━━━━━━━\u001b[0m \u001b[32m0.0/169.4 kB\u001b[0m \u001b[31m?\u001b[0m eta \u001b[36m-:--:--\u001b[0m\r\u001b[2K   \u001b[91m━━━━━━━━━━━━━━━━━━━\u001b[0m\u001b[90m╺\u001b[0m\u001b[90m━━━━━━━━━━━━━━━━━━━━\u001b[0m \u001b[32m81.9/169.4 kB\u001b[0m \u001b[31m2.8 MB/s\u001b[0m eta \u001b[36m0:00:01\u001b[0m\r\u001b[2K   \u001b[90m━━━━━━━━━━━━━━━━━━━━━━━━━━━━━━━━━━━━━━━━\u001b[0m \u001b[32m169.4/169.4 kB\u001b[0m \u001b[31m3.0 MB/s\u001b[0m eta \u001b[36m0:00:00\u001b[0m\n",
            "\u001b[?25hInstalling collected packages: xlsxwriter\n",
            "Successfully installed xlsxwriter-3.2.3\n"
          ]
        }
      ]
    },
    {
      "cell_type": "code",
      "source": [],
      "metadata": {
        "id": "UhQK2VzN7jWM"
      },
      "execution_count": null,
      "outputs": []
    }
  ]
}