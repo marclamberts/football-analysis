{
  "nbformat": 4,
  "nbformat_minor": 0,
  "metadata": {
    "colab": {
      "provenance": [],
      "authorship_tag": "ABX9TyOY7OfVxZQixEJRkmOhwQWE",
      "include_colab_link": true
    },
    "kernelspec": {
      "name": "python3",
      "display_name": "Python 3"
    },
    "language_info": {
      "name": "python"
    }
  },
  "cells": [
    {
      "cell_type": "markdown",
      "metadata": {
        "id": "view-in-github",
        "colab_type": "text"
      },
      "source": [
        "<a href=\"https://colab.research.google.com/github/marclamberts/football-analysis/blob/main/Box_Score_%2B_.ipynb\" target=\"_parent\"><img src=\"https://colab.research.google.com/assets/colab-badge.svg\" alt=\"Open In Colab\"/></a>"
      ]
    },
    {
      "cell_type": "code",
      "execution_count": null,
      "metadata": {
        "id": "wmcOlU2BAiD8"
      },
      "outputs": [],
      "source": [
        "from google.colab import drive\n",
        "drive.mount('/content/drive')\n",
        "import pandas as pd\n",
        "\n",
        "# Load the match event CSV\n",
        "file_path = '/content/drive/MyDrive/Recruitment/Brøndby 1-1 Nordsjælland.csv'\n",
        "df = pd.read_csv(file_path)"
      ]
    },
    {
      "cell_type": "code",
      "source": [
        "import pandas as pd\n",
        "\n",
        "# Load your CSV file (update the file path as needed)\n",
        "df = pd.read_csv(\"Brøndby 1-1 Nordsjælland.csv\")\n",
        "\n",
        "# Select relevant columns for the box score\n",
        "box_score_columns = [\n",
        "    'playerId', 'playerName', 'typeId', 'outcome', 'keyPass', 'assist'\n",
        "]\n",
        "\n",
        "# Filter rows with valid player data\n",
        "player_events = df[box_score_columns].dropna(subset=['playerId', 'playerName'])\n",
        "\n",
        "# Define basic box score metrics\n",
        "player_events['is_pass'] = player_events['typeId'] == 1\n",
        "player_events['successful_pass'] = (player_events['typeId'] == 1) & (player_events['outcome'] == 1)\n",
        "player_events['key_pass'] = player_events['keyPass'] == 1\n",
        "player_events['assist'] = player_events['assist'] == 1\n",
        "player_events['shots'] = player_events['typeId'] == 13\n",
        "player_events['successful_take_on'] = (player_events['typeId'] == 3) & (player_events['outcome'] == 1)\n",
        "player_events['failed_take_on'] = (player_events['typeId'] == 3) & (player_events['outcome'] == 0)\n",
        "player_events['tackle'] = player_events['typeId'] == 4\n",
        "player_events['foul'] = player_events['typeId'] == 7\n",
        "\n",
        "# Group by player to summarize actions\n",
        "box_score_summary = player_events.groupby(['playerId', 'playerName']).agg({\n",
        "    'is_pass': 'sum',\n",
        "    'successful_pass': 'sum',\n",
        "    'key_pass': 'sum',\n",
        "    'assist': 'sum',\n",
        "    'shots': 'sum',\n",
        "    'successful_take_on': 'sum',\n",
        "    'failed_take_on': 'sum',\n",
        "    'tackle': 'sum',\n",
        "    'foul': 'sum'\n",
        "}).reset_index()\n",
        "\n",
        "# Rename columns for clarity\n",
        "box_score_summary.columns = [\n",
        "    'Player ID', 'Player Name', 'Passes Attempted', 'Passes Completed',\n",
        "    'Key Passes', 'Assists', 'Shots', 'Successful Take-Ons',\n",
        "    'Failed Take-Ons', 'Tackles', 'Fouls Committed'\n",
        "]\n",
        "\n",
        "# Define weights for BPM components\n",
        "weights = {\n",
        "    'Passes Completed': 0.05,\n",
        "    'Key Passes': 0.3,\n",
        "    'Assists': 0.6,\n",
        "    'Shots': 0.4,\n",
        "    'Successful Take-Ons': 0.3,\n",
        "    'Failed Take-Ons': -0.2,\n",
        "    'Tackles': 0.4,\n",
        "    'Fouls Committed': -0.5\n",
        "}\n",
        "\n",
        "# Calculate Football BPM using a weighted sum of box score components\n",
        "box_score_summary['Football BPM'] = (\n",
        "    box_score_summary['Passes Completed'] * weights['Passes Completed'] +\n",
        "    box_score_summary['Key Passes'] * weights['Key Passes'] +\n",
        "    box_score_summary['Assists'] * weights['Assists'] +\n",
        "    box_score_summary['Shots'] * weights['Shots'] +\n",
        "    box_score_summary['Successful Take-Ons'] * weights['Successful Take-Ons'] +\n",
        "    box_score_summary['Failed Take-Ons'] * weights['Failed Take-Ons'] +\n",
        "    box_score_summary['Tackles'] * weights['Tackles'] +\n",
        "    box_score_summary['Fouls Committed'] * weights['Fouls Committed']\n",
        ")\n",
        "\n",
        "# Sort players by Football BPM\n",
        "box_score_bpm = box_score_summary.sort_values(by='Football BPM', ascending=False)\n",
        "\n",
        "# Show final output\n",
        "print(box_score_bpm[['Player Name', 'Football BPM']])\n"
      ],
      "metadata": {
        "id": "4yUx9ou8Aing"
      },
      "execution_count": null,
      "outputs": []
    }
  ]
}