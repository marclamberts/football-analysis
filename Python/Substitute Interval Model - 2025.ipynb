{
 "cells": [
  {
   "cell_type": "code",
   "execution_count": 8,
   "id": "fbb51e29",
   "metadata": {},
   "outputs": [
    {
     "name": "stdout",
     "output_type": "stream",
     "text": [
      "      typeId          playerName               contestantId  timeMin\n",
      "844       18          C. Hollman  38ui5tfi8anjuh533emny2tz1       45\n",
      "845       19           W. Kamijo  38ui5tfi8anjuh533emny2tz1       45\n",
      "846       18          A. Segecic  38ui5tfi8anjuh533emny2tz1       45\n",
      "847       19       Douglas Costa  38ui5tfi8anjuh533emny2tz1       45\n",
      "1274      18           J. Lolley  38ui5tfi8anjuh533emny2tz1       68\n",
      "1275      19          T. Quintal  38ui5tfi8anjuh533emny2tz1       68\n",
      "1276      18          P. Klimala  38ui5tfi8anjuh533emny2tz1       68\n",
      "1277      19        J. Kucharski  38ui5tfi8anjuh533emny2tz1       68\n",
      "1292      18           I. Hughes  6j4xzc2g1eeafo6v1f38d4x22       71\n",
      "1293      19            C. Piper  6j4xzc2g1eeafo6v1f38d4x22       71\n",
      "1423      18            P. Retre  6j4xzc2g1eeafo6v1f38d4x22       79\n",
      "1424      19         K. Nagasawa  6j4xzc2g1eeafo6v1f38d4x22       79\n",
      "1425      18  Francisco Geraldes  6j4xzc2g1eeafo6v1f38d4x22       79\n",
      "1426      19           H. Ishige  6j4xzc2g1eeafo6v1f38d4x22       79\n"
     ]
    }
   ],
   "source": [
    "import pandas as pd\n",
    "\n",
    "# Load the CSV data into a DataFrame\n",
    "df = pd.read_csv('/Users/marclambertes/Python/Matches/Men/2024-2025/A-League 2024-2025/Sydney 1-1 Wellington.csv')\n",
    "\n",
    "# Filter for typeId == 18 or 19\n",
    "df = df[df['typeId'].isin([18, 19])]\n",
    "\n",
    "# Select and display the required columns\n",
    "result = df[['typeId', 'playerName', 'contestantId', 'timeMin']]\n",
    "\n",
    "# Print the result\n",
    "print(result)"
   ]
  },
  {
   "cell_type": "code",
   "execution_count": null,
   "id": "c17ffa0f",
   "metadata": {},
   "outputs": [],
   "source": []
  }
 ],
 "metadata": {
  "kernelspec": {
   "display_name": "Python 3 (ipykernel)",
   "language": "python",
   "name": "python3"
  },
  "language_info": {
   "codemirror_mode": {
    "name": "ipython",
    "version": 3
   },
   "file_extension": ".py",
   "mimetype": "text/x-python",
   "name": "python",
   "nbconvert_exporter": "python",
   "pygments_lexer": "ipython3",
   "version": "3.10.9"
  }
 },
 "nbformat": 4,
 "nbformat_minor": 5
}
