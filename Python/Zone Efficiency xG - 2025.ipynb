{
 "cells": [
  {
   "cell_type": "code",
   "execution_count": 2,
   "id": "efd910df",
   "metadata": {},
   "outputs": [
    {
     "name": "stdout",
     "output_type": "stream",
     "text": [
      "Zone Efficiency:\n",
      "PitchZone\n",
      "Central Advanced Zone        0.000000\n",
      "Central Attacking Zone       0.333333\n",
      "Central Midfield Zone        0.000000\n",
      "Deep Left Defensive Zone     1.000000\n",
      "Deep Right Defensive Zone    0.200000\n",
      "Left Defensive Zone          1.000000\n",
      "Left Midfield Advanced       0.000000\n",
      "Right Defensive Zone         0.121911\n",
      "Right Midfield Advanced      0.042373\n",
      "Right Midfield Deep          0.048430\n",
      "dtype: float64\n"
     ]
    }
   ],
   "source": [
    "import pandas as pd\n",
    "import numpy as np\n",
    "\n",
    "# Load dataset\n",
    "file_path = \"/Users/marclambertes/Downloads/Outswinger FC - Expected Goals/Bundesliga xG 04022025.xlsx\"  # Update with your file path\n",
    "df = pd.read_excel(file_path)\n",
    "\n",
    "# Ensure relevant columns are numeric\n",
    "df[['x', 'y', 'isGoal']] = df[['x', 'y', 'isGoal']].apply(pd.to_numeric, errors='coerce').fillna(0)\n",
    "\n",
    "### Zone Efficiency Metrics ###\n",
    "# Define finer-grained pitch zones\n",
    "conditions = [\n",
    "    (df['x'] <= 8.25),  # Deep left defensive zone\n",
    "    (df['x'] > 8.25) & (df['x'] <= 16.5),  # Left defensive zone\n",
    "    (df['x'] > 16.5) & (df['x'] <= 24.75),  # Left midfield deep\n",
    "    (df['x'] > 24.75) & (df['x'] <= 33),  # Left midfield advanced\n",
    "    (df['x'] > 33) & (df['x'] <= 41.25),  # Central deep defensive zone\n",
    "    (df['x'] > 41.25) & (df['x'] <= 49.5),  # Central midfield zone\n",
    "    (df['x'] > 49.5) & (df['x'] <= 57.75),  # Central attacking zone\n",
    "    (df['x'] > 57.75) & (df['x'] <= 66),  # Central advanced zone\n",
    "    (df['x'] > 66) & (df['x'] <= 74.25),  # Right midfield advanced\n",
    "    (df['x'] > 74.25) & (df['x'] <= 82.5),  # Right midfield deep\n",
    "    (df['x'] > 82.5) & (df['x'] <= 90.75),  # Right defensive zone\n",
    "    (df['x'] > 90.75)  # Deep right defensive zone\n",
    "]\n",
    "zone_names = ['Deep Left Defensive Zone', 'Left Defensive Zone', 'Left Midfield Deep', 'Left Midfield Advanced',\n",
    "               'Central Deep Defensive Zone', 'Central Midfield Zone', 'Central Attacking Zone',\n",
    "               'Central Advanced Zone', 'Right Midfield Advanced', 'Right Midfield Deep',\n",
    "               'Right Defensive Zone', 'Deep Right Defensive Zone']\n",
    "df['PitchZone'] = np.select(conditions, zone_names, default='Unknown')\n",
    "\n",
    "# Zone efficiency calculation\n",
    "def calculate_efficiency(group):\n",
    "    total_attempts = group.shape[0]\n",
    "    successful_goals = group['isGoal'].sum()\n",
    "    return successful_goals / total_attempts if total_attempts > 0 else 0\n",
    "\n",
    "zone_efficiency = df.groupby('PitchZone').apply(calculate_efficiency)\n",
    "print(\"Zone Efficiency:\")\n",
    "print(zone_efficiency)\n"
   ]
  },
  {
   "cell_type": "code",
   "execution_count": null,
   "id": "d9f87c1f",
   "metadata": {},
   "outputs": [],
   "source": []
  }
 ],
 "metadata": {
  "kernelspec": {
   "display_name": "Python 3 (ipykernel)",
   "language": "python",
   "name": "python3"
  },
  "language_info": {
   "codemirror_mode": {
    "name": "ipython",
    "version": 3
   },
   "file_extension": ".py",
   "mimetype": "text/x-python",
   "name": "python",
   "nbconvert_exporter": "python",
   "pygments_lexer": "ipython3",
   "version": "3.10.9"
  }
 },
 "nbformat": 4,
 "nbformat_minor": 5
}
