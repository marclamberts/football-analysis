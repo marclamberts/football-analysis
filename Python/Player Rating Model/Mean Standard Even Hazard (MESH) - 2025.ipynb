{
 "cells": [
  {
   "cell_type": "code",
   "execution_count": 2,
   "id": "974e4c45",
   "metadata": {},
   "outputs": [
    {
     "name": "stderr",
     "output_type": "stream",
     "text": [
      "/var/folders/68/mhmqcpdn52943pyql2n4wj440000gn/T/ipykernel_21710/1196292302.py:24: SettingWithCopyWarning: \n",
      "A value is trying to be set on a copy of a slice from a DataFrame.\n",
      "Try using .loc[row_indexer,col_indexer] = value instead\n",
      "\n",
      "See the caveats in the documentation: https://pandas.pydata.org/pandas-docs/stable/user_guide/indexing.html#returning-a-view-versus-a-copy\n",
      "  even_strength_df[\"Half\"] = even_strength_df[\"timeMin\"].apply(lambda x: \"First Half\" if x <= 45 else \"Second Half\")\n"
     ]
    },
    {
     "name": "stdout",
     "output_type": "stream",
     "text": [
      "\n",
      "MESH results saved to: /Users/marclambertes/Python/MESH_Results.xlsx\n"
     ]
    }
   ],
   "source": [
    "import pandas as pd\n",
    "\n",
    "# Load the dataset\n",
    "file_path = \"/Users/marclambertes/Downloads/xG 04022025.xlsx\"\n",
    "df = pd.read_excel(file_path)\n",
    "\n",
    "# Filter for even-strength situations (assuming 'Gamestate' indicates game state)\n",
    "even_strength_df = df[df[\"Gamestate\"] == \"Draw\"]  # 'Draw' likely means equal strength\n",
    "\n",
    "# Compute overall MESH (Mean Even Strength Hazard) using xG values\n",
    "mesh_value = even_strength_df[\"xG\"].mean()\n",
    "\n",
    "# Compute MESH per team\n",
    "mesh_per_team = even_strength_df.groupby(\"TeamId\")[\"xG\"].mean().reset_index()\n",
    "mesh_per_team.columns = [\"Category\", \"MESH Value\"]\n",
    "mesh_per_team.insert(0, \"Metric\", \"MESH per Team\")\n",
    "\n",
    "# Compute MESH per player\n",
    "mesh_per_player = even_strength_df.groupby(\"PlayerId\")[\"xG\"].mean().reset_index()\n",
    "mesh_per_player.columns = [\"Category\", \"MESH Value\"]\n",
    "mesh_per_player.insert(0, \"Metric\", \"MESH per Player\")\n",
    "\n",
    "# Compute MESH per time period (First Half vs. Second Half)\n",
    "even_strength_df[\"Half\"] = even_strength_df[\"timeMin\"].apply(lambda x: \"First Half\" if x <= 45 else \"Second Half\")\n",
    "mesh_per_half = even_strength_df.groupby(\"Half\")[\"xG\"].mean().reset_index()\n",
    "mesh_per_half.columns = [\"Category\", \"MESH Value\"]\n",
    "mesh_per_half.insert(0, \"Metric\", \"MESH per Half\")\n",
    "\n",
    "# Compute MESH per shot type (if applicable)\n",
    "if \"ShotQualityModifier\" in even_strength_df.columns:\n",
    "    mesh_per_shot_type = even_strength_df.groupby(\"ShotQualityModifier\")[\"xG\"].mean().reset_index()\n",
    "    mesh_per_shot_type.columns = [\"Category\", \"MESH Value\"]\n",
    "    mesh_per_shot_type.insert(0, \"Metric\", \"MESH per Shot Type\")\n",
    "else:\n",
    "    mesh_per_shot_type = pd.DataFrame(columns=[\"Metric\", \"Category\", \"MESH Value\"])  # Empty DataFrame if column doesn't exist\n",
    "\n",
    "# Create a DataFrame for Overall MESH\n",
    "overall_mesh_df = pd.DataFrame({\"Metric\": [\"Overall MESH\"], \"Category\": [\"\"], \"MESH Value\": [mesh_value]})\n",
    "\n",
    "# Combine all DataFrames into one\n",
    "mesh_combined = pd.concat([overall_mesh_df, mesh_per_team, mesh_per_player, mesh_per_half, mesh_per_shot_type], ignore_index=True)\n",
    "\n",
    "# Define Excel file path\n",
    "output_file = \"/Users/marclambertes/Python/MESH_Results.xlsx\"\n",
    "\n",
    "# Save results to a single Excel sheet\n",
    "mesh_combined.to_excel(output_file, sheet_name=\"MESH Results\", index=False)\n",
    "\n",
    "print(f\"\\nMESH results saved to: {output_file}\")\n"
   ]
  },
  {
   "cell_type": "code",
   "execution_count": null,
   "id": "c4c7b923",
   "metadata": {},
   "outputs": [],
   "source": []
  }
 ],
 "metadata": {
  "kernelspec": {
   "display_name": "Python 3 (ipykernel)",
   "language": "python",
   "name": "python3"
  },
  "language_info": {
   "codemirror_mode": {
    "name": "ipython",
    "version": 3
   },
   "file_extension": ".py",
   "mimetype": "text/x-python",
   "name": "python",
   "nbconvert_exporter": "python",
   "pygments_lexer": "ipython3",
   "version": "3.10.9"
  }
 },
 "nbformat": 4,
 "nbformat_minor": 5
}
