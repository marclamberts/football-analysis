{
 "cells": [
  {
   "cell_type": "code",
   "execution_count": 7,
   "id": "11955195",
   "metadata": {},
   "outputs": [
    {
     "name": "stdout",
     "output_type": "stream",
     "text": [
      "Pass direction analysis has been saved to pass_directions_summary.xlsx\n"
     ]
    }
   ],
   "source": [
    "import pandas as pd\n",
    "import numpy as np\n",
    "\n",
    "# Load the data from the Excel file\n",
    "input_file = 'BM2425.xlsx'  # Replace with your input file name\n",
    "data = pd.read_excel(input_file)\n",
    "\n",
    "# Ensure the necessary columns are present\n",
    "required_columns = {'playerName', 'x', 'y', 'endX', 'endY'}\n",
    "if not required_columns.issubset(data.columns):\n",
    "    raise ValueError(f\"Input file must contain the following columns: {required_columns}\")\n",
    "\n",
    "# Define a function to calculate pass direction\n",
    "def calculate_direction(start_x, start_y, end_x, end_y):\n",
    "    dx = end_x - start_x\n",
    "    dy = end_y - start_y\n",
    "\n",
    "    if dx == 0 and dy == 0:\n",
    "        return 'stationary'\n",
    "    elif dx == 0:\n",
    "        return 'lateral'\n",
    "    elif dy == 0:\n",
    "        return 'back' if dx < 0 else 'forward'\n",
    "    elif dx < 0 and dy < 0:\n",
    "        return 'back'\n",
    "    elif dx > 0 and dy > 0:\n",
    "        return 'forward'\n",
    "    else:\n",
    "        return 'diagonal'\n",
    "\n",
    "# Apply the direction calculation to each row\n",
    "data['direction'] = data.apply(lambda row: calculate_direction(row['x'], row['y'], row['endX'], row['endY']), axis=1)\n",
    "\n",
    "# Group by playerName and count the occurrences of each direction\n",
    "direction_counts = data.groupby(['playerName', 'direction']).size().unstack(fill_value=0)\n",
    "\n",
    "# Save the result to a new Excel file\n",
    "output_file = 'pass_directions_summary.xlsx'\n",
    "direction_counts.to_excel(output_file)\n",
    "\n",
    "print(f\"Pass direction analysis has been saved to {output_file}\")\n"
   ]
  },
  {
   "cell_type": "code",
   "execution_count": 9,
   "id": "449f3b20",
   "metadata": {},
   "outputs": [
    {
     "name": "stdout",
     "output_type": "stream",
     "text": [
      "Pass direction analysis with roles has been saved to pass_directions_with_roles.xlsx\n"
     ]
    }
   ],
   "source": [
    "import pandas as pd\n",
    "import numpy as np\n",
    "\n",
    "# Load the data from the Excel file\n",
    "input_file = 'BM2425.xlsx'  # Replace with your input file name\n",
    "data = pd.read_excel(input_file)\n",
    "\n",
    "# Ensure the necessary columns are present\n",
    "required_columns = {'playerName', 'x', 'y', 'endX', 'endY'}\n",
    "if not required_columns.issubset(data.columns):\n",
    "    raise ValueError(f\"Input file must contain the following columns: {required_columns}\")\n",
    "\n",
    "# Define a function to calculate pass direction\n",
    "def calculate_direction(start_x, start_y, end_x, end_y):\n",
    "    dx = end_x - start_x\n",
    "    dy = end_y - start_y\n",
    "\n",
    "    if dx == 0 and dy == 0:\n",
    "        return 'stationary'\n",
    "    elif dx == 0:\n",
    "        return 'lateral'\n",
    "    elif dy == 0:\n",
    "        return 'back' if dx < 0 else 'forward'\n",
    "    elif dx < 0 and dy < 0:\n",
    "        return 'back'\n",
    "    elif dx > 0 and dy > 0:\n",
    "        return 'forward'\n",
    "    else:\n",
    "        return 'diagonal'\n",
    "\n",
    "# Apply the direction calculation to each row\n",
    "data['direction'] = data.apply(lambda row: calculate_direction(row['x'], row['y'], row['endX'], row['endY']), axis=1)\n",
    "\n",
    "# Group by playerName and count the occurrences of each direction\n",
    "direction_counts = data.groupby(['playerName', 'direction']).size().unstack(fill_value=0)\n",
    "\n",
    "# Calculate z-scores for each direction\n",
    "z_scores = (direction_counts - direction_counts.mean()) / direction_counts.std()\n",
    "\n",
    "# Define weights for each direction\n",
    "weights = {\n",
    "    'forward': 1.5,\n",
    "    'back': 1.0,\n",
    "    'lateral': 1.2,\n",
    "    'diagonal': 1.3,\n",
    "    'stationary': 0.8\n",
    "}\n",
    "\n",
    "# Apply weights to z-scores\n",
    "for direction, weight in weights.items():\n",
    "    if direction in z_scores.columns:\n",
    "        z_scores[direction] *= weight\n",
    "\n",
    "# Assign roles based on weighted z-scores\n",
    "roles = []\n",
    "for _, row in z_scores.iterrows():\n",
    "    role_scores = {\n",
    "        'Playmaker': row.get('forward', 0) + row.get('diagonal', 0),\n",
    "        'Defender': row.get('back', 0) + row.get('lateral', 0),\n",
    "        'Support': row.get('stationary', 0) + row.get('lateral', 0),\n",
    "        'Attacker': row.get('forward', 0) * 1.2 + row.get('diagonal', 0) * 1.1\n",
    "    }\n",
    "    roles.append(max(role_scores, key=role_scores.get))\n",
    "\n",
    "z_scores['role'] = roles\n",
    "\n",
    "# Save the result to a new Excel file\n",
    "output_file = 'pass_directions_with_roles.xlsx'\n",
    "z_scores.to_excel(output_file)\n",
    "\n",
    "print(f\"Pass direction analysis with roles has been saved to {output_file}\")\n"
   ]
  },
  {
   "cell_type": "code",
   "execution_count": null,
   "id": "95147992",
   "metadata": {},
   "outputs": [],
   "source": []
  }
 ],
 "metadata": {
  "kernelspec": {
   "display_name": "Python 3 (ipykernel)",
   "language": "python",
   "name": "python3"
  },
  "language_info": {
   "codemirror_mode": {
    "name": "ipython",
    "version": 3
   },
   "file_extension": ".py",
   "mimetype": "text/x-python",
   "name": "python",
   "nbconvert_exporter": "python",
   "pygments_lexer": "ipython3",
   "version": "3.10.9"
  }
 },
 "nbformat": 4,
 "nbformat_minor": 5
}
