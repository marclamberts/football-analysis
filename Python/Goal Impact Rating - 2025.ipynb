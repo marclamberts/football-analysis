{
 "cells": [
  {
   "cell_type": "code",
   "execution_count": 2,
   "id": "c7633663",
   "metadata": {},
   "outputs": [
    {
     "ename": "TypeError",
     "evalue": "'>' not supported between instances of 'str' and 'int'",
     "output_type": "error",
     "traceback": [
      "\u001b[0;31m---------------------------------------------------------------------------\u001b[0m",
      "\u001b[0;31mTypeError\u001b[0m                                 Traceback (most recent call last)",
      "Cell \u001b[0;32mIn[2], line 24\u001b[0m\n\u001b[1;32m     22\u001b[0m player_metrics[\u001b[38;5;124m'\u001b[39m\u001b[38;5;124mxG_per_Shot\u001b[39m\u001b[38;5;124m'\u001b[39m] \u001b[38;5;241m=\u001b[39m player_metrics[\u001b[38;5;124m'\u001b[39m\u001b[38;5;124mxG\u001b[39m\u001b[38;5;124m'\u001b[39m]  \u001b[38;5;66;03m# Assume xG as shot quality proxy\u001b[39;00m\n\u001b[1;32m     23\u001b[0m player_metrics[\u001b[38;5;124m'\u001b[39m\u001b[38;5;124mGoal_Performance\u001b[39m\u001b[38;5;124m'\u001b[39m] \u001b[38;5;241m=\u001b[39m player_metrics[\u001b[38;5;124m'\u001b[39m\u001b[38;5;124mGoal\u001b[39m\u001b[38;5;124m'\u001b[39m] \u001b[38;5;241m-\u001b[39m player_metrics[\u001b[38;5;124m'\u001b[39m\u001b[38;5;124mxG\u001b[39m\u001b[38;5;124m'\u001b[39m]  \u001b[38;5;66;03m# Goal overperformance\u001b[39;00m\n\u001b[0;32m---> 24\u001b[0m player_metrics[\u001b[38;5;124m'\u001b[39m\u001b[38;5;124mBigChance_Conversion\u001b[39m\u001b[38;5;124m'\u001b[39m] \u001b[38;5;241m=\u001b[39m np\u001b[38;5;241m.\u001b[39mwhere(\u001b[43mplayer_metrics\u001b[49m\u001b[43m[\u001b[49m\u001b[38;5;124;43m'\u001b[39;49m\u001b[38;5;124;43misBigChance\u001b[39;49m\u001b[38;5;124;43m'\u001b[39;49m\u001b[43m]\u001b[49m\u001b[43m \u001b[49m\u001b[38;5;241;43m>\u001b[39;49m\u001b[43m \u001b[49m\u001b[38;5;241;43m0\u001b[39;49m,\n\u001b[1;32m     25\u001b[0m                                                   player_metrics[\u001b[38;5;124m'\u001b[39m\u001b[38;5;124misGoal\u001b[39m\u001b[38;5;124m'\u001b[39m] \u001b[38;5;241m/\u001b[39m player_metrics[\u001b[38;5;124m'\u001b[39m\u001b[38;5;124misBigChance\u001b[39m\u001b[38;5;124m'\u001b[39m], \u001b[38;5;241m0\u001b[39m)\n\u001b[1;32m     26\u001b[0m player_metrics[\u001b[38;5;124m'\u001b[39m\u001b[38;5;124mAssist_Contribution\u001b[39m\u001b[38;5;124m'\u001b[39m] \u001b[38;5;241m=\u001b[39m np\u001b[38;5;241m.\u001b[39mwhere(player_metrics[\u001b[38;5;124m'\u001b[39m\u001b[38;5;124misAssistedShot\u001b[39m\u001b[38;5;124m'\u001b[39m] \u001b[38;5;241m>\u001b[39m \u001b[38;5;241m0\u001b[39m,\n\u001b[1;32m     27\u001b[0m                                                  player_metrics[\u001b[38;5;124m'\u001b[39m\u001b[38;5;124misIntentionalAssist\u001b[39m\u001b[38;5;124m'\u001b[39m] \u001b[38;5;241m/\u001b[39m player_metrics[\u001b[38;5;124m'\u001b[39m\u001b[38;5;124misAssistedShot\u001b[39m\u001b[38;5;124m'\u001b[39m], \u001b[38;5;241m0\u001b[39m)\n\u001b[1;32m     28\u001b[0m player_metrics[\u001b[38;5;124m'\u001b[39m\u001b[38;5;124mMinutesPlayed\u001b[39m\u001b[38;5;124m'\u001b[39m] \u001b[38;5;241m=\u001b[39m player_metrics[\u001b[38;5;124m'\u001b[39m\u001b[38;5;124mtimeMin\u001b[39m\u001b[38;5;124m'\u001b[39m] \u001b[38;5;241m+\u001b[39m player_metrics[\u001b[38;5;124m'\u001b[39m\u001b[38;5;124mtimeSec\u001b[39m\u001b[38;5;124m'\u001b[39m] \u001b[38;5;241m/\u001b[39m \u001b[38;5;241m60\u001b[39m  \u001b[38;5;66;03m# Total minutes played\u001b[39;00m\n",
      "File \u001b[0;32m~/anaconda3/lib/python3.10/site-packages/pandas/core/ops/common.py:70\u001b[0m, in \u001b[0;36m_unpack_zerodim_and_defer.<locals>.new_method\u001b[0;34m(self, other)\u001b[0m\n\u001b[1;32m     66\u001b[0m             \u001b[38;5;28;01mreturn\u001b[39;00m \u001b[38;5;28mNotImplemented\u001b[39m\n\u001b[1;32m     68\u001b[0m other \u001b[38;5;241m=\u001b[39m item_from_zerodim(other)\n\u001b[0;32m---> 70\u001b[0m \u001b[38;5;28;01mreturn\u001b[39;00m \u001b[43mmethod\u001b[49m\u001b[43m(\u001b[49m\u001b[38;5;28;43mself\u001b[39;49m\u001b[43m,\u001b[49m\u001b[43m \u001b[49m\u001b[43mother\u001b[49m\u001b[43m)\u001b[49m\n",
      "File \u001b[0;32m~/anaconda3/lib/python3.10/site-packages/pandas/core/arraylike.py:56\u001b[0m, in \u001b[0;36mOpsMixin.__gt__\u001b[0;34m(self, other)\u001b[0m\n\u001b[1;32m     54\u001b[0m \u001b[38;5;129m@unpack_zerodim_and_defer\u001b[39m(\u001b[38;5;124m\"\u001b[39m\u001b[38;5;124m__gt__\u001b[39m\u001b[38;5;124m\"\u001b[39m)\n\u001b[1;32m     55\u001b[0m \u001b[38;5;28;01mdef\u001b[39;00m \u001b[38;5;21m__gt__\u001b[39m(\u001b[38;5;28mself\u001b[39m, other):\n\u001b[0;32m---> 56\u001b[0m     \u001b[38;5;28;01mreturn\u001b[39;00m \u001b[38;5;28;43mself\u001b[39;49m\u001b[38;5;241;43m.\u001b[39;49m\u001b[43m_cmp_method\u001b[49m\u001b[43m(\u001b[49m\u001b[43mother\u001b[49m\u001b[43m,\u001b[49m\u001b[43m \u001b[49m\u001b[43moperator\u001b[49m\u001b[38;5;241;43m.\u001b[39;49m\u001b[43mgt\u001b[49m\u001b[43m)\u001b[49m\n",
      "File \u001b[0;32m~/anaconda3/lib/python3.10/site-packages/pandas/core/series.py:5620\u001b[0m, in \u001b[0;36mSeries._cmp_method\u001b[0;34m(self, other, op)\u001b[0m\n\u001b[1;32m   5617\u001b[0m rvalues \u001b[38;5;241m=\u001b[39m extract_array(other, extract_numpy\u001b[38;5;241m=\u001b[39m\u001b[38;5;28;01mTrue\u001b[39;00m, extract_range\u001b[38;5;241m=\u001b[39m\u001b[38;5;28;01mTrue\u001b[39;00m)\n\u001b[1;32m   5619\u001b[0m \u001b[38;5;28;01mwith\u001b[39;00m np\u001b[38;5;241m.\u001b[39merrstate(\u001b[38;5;28mall\u001b[39m\u001b[38;5;241m=\u001b[39m\u001b[38;5;124m\"\u001b[39m\u001b[38;5;124mignore\u001b[39m\u001b[38;5;124m\"\u001b[39m):\n\u001b[0;32m-> 5620\u001b[0m     res_values \u001b[38;5;241m=\u001b[39m \u001b[43mops\u001b[49m\u001b[38;5;241;43m.\u001b[39;49m\u001b[43mcomparison_op\u001b[49m\u001b[43m(\u001b[49m\u001b[43mlvalues\u001b[49m\u001b[43m,\u001b[49m\u001b[43m \u001b[49m\u001b[43mrvalues\u001b[49m\u001b[43m,\u001b[49m\u001b[43m \u001b[49m\u001b[43mop\u001b[49m\u001b[43m)\u001b[49m\n\u001b[1;32m   5622\u001b[0m \u001b[38;5;28;01mreturn\u001b[39;00m \u001b[38;5;28mself\u001b[39m\u001b[38;5;241m.\u001b[39m_construct_result(res_values, name\u001b[38;5;241m=\u001b[39mres_name)\n",
      "File \u001b[0;32m~/anaconda3/lib/python3.10/site-packages/pandas/core/ops/array_ops.py:283\u001b[0m, in \u001b[0;36mcomparison_op\u001b[0;34m(left, right, op)\u001b[0m\n\u001b[1;32m    280\u001b[0m     \u001b[38;5;28;01mreturn\u001b[39;00m invalid_comparison(lvalues, rvalues, op)\n\u001b[1;32m    282\u001b[0m \u001b[38;5;28;01melif\u001b[39;00m is_object_dtype(lvalues\u001b[38;5;241m.\u001b[39mdtype) \u001b[38;5;129;01mor\u001b[39;00m \u001b[38;5;28misinstance\u001b[39m(rvalues, \u001b[38;5;28mstr\u001b[39m):\n\u001b[0;32m--> 283\u001b[0m     res_values \u001b[38;5;241m=\u001b[39m \u001b[43mcomp_method_OBJECT_ARRAY\u001b[49m\u001b[43m(\u001b[49m\u001b[43mop\u001b[49m\u001b[43m,\u001b[49m\u001b[43m \u001b[49m\u001b[43mlvalues\u001b[49m\u001b[43m,\u001b[49m\u001b[43m \u001b[49m\u001b[43mrvalues\u001b[49m\u001b[43m)\u001b[49m\n\u001b[1;32m    285\u001b[0m \u001b[38;5;28;01melse\u001b[39;00m:\n\u001b[1;32m    286\u001b[0m     res_values \u001b[38;5;241m=\u001b[39m _na_arithmetic_op(lvalues, rvalues, op, is_cmp\u001b[38;5;241m=\u001b[39m\u001b[38;5;28;01mTrue\u001b[39;00m)\n",
      "File \u001b[0;32m~/anaconda3/lib/python3.10/site-packages/pandas/core/ops/array_ops.py:73\u001b[0m, in \u001b[0;36mcomp_method_OBJECT_ARRAY\u001b[0;34m(op, x, y)\u001b[0m\n\u001b[1;32m     71\u001b[0m     result \u001b[38;5;241m=\u001b[39m libops\u001b[38;5;241m.\u001b[39mvec_compare(x\u001b[38;5;241m.\u001b[39mravel(), y\u001b[38;5;241m.\u001b[39mravel(), op)\n\u001b[1;32m     72\u001b[0m \u001b[38;5;28;01melse\u001b[39;00m:\n\u001b[0;32m---> 73\u001b[0m     result \u001b[38;5;241m=\u001b[39m \u001b[43mlibops\u001b[49m\u001b[38;5;241;43m.\u001b[39;49m\u001b[43mscalar_compare\u001b[49m\u001b[43m(\u001b[49m\u001b[43mx\u001b[49m\u001b[38;5;241;43m.\u001b[39;49m\u001b[43mravel\u001b[49m\u001b[43m(\u001b[49m\u001b[43m)\u001b[49m\u001b[43m,\u001b[49m\u001b[43m \u001b[49m\u001b[43my\u001b[49m\u001b[43m,\u001b[49m\u001b[43m \u001b[49m\u001b[43mop\u001b[49m\u001b[43m)\u001b[49m\n\u001b[1;32m     74\u001b[0m \u001b[38;5;28;01mreturn\u001b[39;00m result\u001b[38;5;241m.\u001b[39mreshape(x\u001b[38;5;241m.\u001b[39mshape)\n",
      "File \u001b[0;32m~/anaconda3/lib/python3.10/site-packages/pandas/_libs/ops.pyx:107\u001b[0m, in \u001b[0;36mpandas._libs.ops.scalar_compare\u001b[0;34m()\u001b[0m\n",
      "\u001b[0;31mTypeError\u001b[0m: '>' not supported between instances of 'str' and 'int'"
     ]
    }
   ],
   "source": [
    "import pandas as pd\n",
    "import numpy as np\n",
    "from sklearn.preprocessing import MinMaxScaler\n",
    "\n",
    "# Load data from Excel file\n",
    "file_path = \"/Users/marclambertes/Downloads/Outswinger FC - Expected Goals/Bundesliga xG 04022025.xlsx\"\n",
    "df = pd.read_excel(file_path)\n",
    "\n",
    "# Aggregate metrics per player\n",
    "player_metrics = df.groupby('PlayerId').agg({\n",
    "    'xG': 'sum',  # Sum of expected goals\n",
    "    'Goal': 'sum',  # Sum of actual goals\n",
    "    'isBigChance': 'sum',  # Total big chances\n",
    "    'isGoal': 'sum',  # Total goals from big chances\n",
    "    'isAssistedShot': 'sum',  # Total assisted shots\n",
    "    'isIntentionalAssist': 'sum',  # Total intentional assists\n",
    "    'timeMin': 'sum',  # Total minutes\n",
    "    'timeSec': 'sum'  # Total seconds\n",
    "}).reset_index()\n",
    "\n",
    "# Calculate derived metrics\n",
    "player_metrics['xG_per_Shot'] = player_metrics['xG']  # Assume xG as shot quality proxy\n",
    "player_metrics['Goal_Performance'] = player_metrics['Goal'] - player_metrics['xG']  # Goal overperformance\n",
    "player_metrics['BigChance_Conversion'] = np.where(player_metrics['isBigChance'] > 0,\n",
    "                                                  player_metrics['isGoal'] / player_metrics['isBigChance'], 0)\n",
    "player_metrics['Assist_Contribution'] = np.where(player_metrics['isAssistedShot'] > 0,\n",
    "                                                 player_metrics['isIntentionalAssist'] / player_metrics['isAssistedShot'], 0)\n",
    "player_metrics['MinutesPlayed'] = player_metrics['timeMin'] + player_metrics['timeSec'] / 60  # Total minutes played\n",
    "\n",
    "# Normalize the metrics using MinMaxScaler\n",
    "scaler = MinMaxScaler()\n",
    "\n",
    "normalized_metrics = player_metrics[['xG_per_Shot', 'Goal_Performance', 'BigChance_Conversion',\n",
    "                                      'Assist_Contribution', 'MinutesPlayed']].fillna(0)\n",
    "\n",
    "scaled_values = scaler.fit_transform(normalized_metrics)\n",
    "scaled_df = pd.DataFrame(scaled_values, columns=['xG_per_Shot_norm', 'Goal_Performance_norm',\n",
    "                                                  'BigChance_Conversion_norm', 'Assist_Contribution_norm',\n",
    "                                                  'MinutesPlayed_norm'])\n",
    "\n",
    "# Merge normalized values back into the DataFrame\n",
    "player_metrics = pd.concat([player_metrics[['PlayerId']], scaled_df], axis=1)\n",
    "\n",
    "# Calculate the Goal Impact Rating (GIR)\n",
    "weight_xG_per_Shot = 0.3\n",
    "weight_Goal_Performance = 0.4\n",
    "weight_BigChance_Conversion = 0.15\n",
    "weight_Assist_Contribution = 0.1\n",
    "weight_MinutesPlayed = 0.05\n",
    "\n",
    "player_metrics['GIR'] = (weight_xG_per_Shot * player_metrics['xG_per_Shot_norm'] +\n",
    "                         weight_Goal_Performance * player_metrics['Goal_Performance_norm'] +\n",
    "                         weight_BigChance_Conversion * player_metrics['BigChance_Conversion_norm'] +\n",
    "                         weight_Assist_Contribution * player_metrics['Assist_Contribution_norm'] +\n",
    "                         weight_MinutesPlayed * player_metrics['MinutesPlayed_norm'])\n",
    "\n",
    "# Display the results (GIR for each player)\n",
    "pe_scores = player_metrics[['PlayerId', 'GIR']]\n",
    "print(pe_scores)\n",
    "\n",
    "# Save the results back to an Excel file\n",
    "pe_scores.to_excel(\"GIR_Player_Scores.xlsx\", index=False)\n"
   ]
  },
  {
   "cell_type": "code",
   "execution_count": null,
   "id": "db362ca0",
   "metadata": {},
   "outputs": [],
   "source": []
  }
 ],
 "metadata": {
  "kernelspec": {
   "display_name": "Python 3 (ipykernel)",
   "language": "python",
   "name": "python3"
  },
  "language_info": {
   "codemirror_mode": {
    "name": "ipython",
    "version": 3
   },
   "file_extension": ".py",
   "mimetype": "text/x-python",
   "name": "python",
   "nbconvert_exporter": "python",
   "pygments_lexer": "ipython3",
   "version": "3.10.9"
  }
 },
 "nbformat": 4,
 "nbformat_minor": 5
}
