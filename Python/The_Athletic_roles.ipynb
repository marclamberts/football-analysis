{
  "nbformat": 4,
  "nbformat_minor": 0,
  "metadata": {
    "colab": {
      "provenance": [],
      "authorship_tag": "ABX9TyP7XIp60g7ymFRNuYf8/Dqk",
      "include_colab_link": true
    },
    "kernelspec": {
      "name": "python3",
      "display_name": "Python 3"
    },
    "language_info": {
      "name": "python"
    }
  },
  "cells": [
    {
      "cell_type": "markdown",
      "metadata": {
        "id": "view-in-github",
        "colab_type": "text"
      },
      "source": [
        "<a href=\"https://colab.research.google.com/github/marclamberts/football-analysis/blob/main/The_Athletic_roles.ipynb\" target=\"_parent\"><img src=\"https://colab.research.google.com/assets/colab-badge.svg\" alt=\"Open In Colab\"/></a>"
      ]
    },
    {
      "cell_type": "code",
      "execution_count": null,
      "metadata": {
        "colab": {
          "base_uri": "https://localhost:8080/"
        },
        "id": "aunLtnQu9HxH",
        "outputId": "bc5f7253-984d-435d-8765-68a525df395c"
      },
      "outputs": [
        {
          "output_type": "stream",
          "name": "stdout",
          "text": [
            "Drive already mounted at /content/drive; to attempt to forcibly remount, call drive.mount(\"/content/drive\", force_remount=True).\n",
            "Role scores calculated and saved to /content/drive/My Drive/player_role_scores.xlsx.\n"
          ]
        }
      ],
      "source": [
        "import pandas as pd\n",
        "from scipy.stats import zscore\n",
        "from google.colab import drive\n",
        "\n",
        "# Mount Google Drive\n",
        "drive.mount('/content/drive')\n",
        "\n",
        "# Load the dataset\n",
        "data = pd.read_excel('/content/drive/My Drive/Database Men 2023-2024/Eredivisie - 2023-2024.xlsx', sheet_name='Search results (500)')\n",
        "\n",
        "# Define metrics for each role and weights based on available dataset\n",
        "roles_metrics_weights = {\n",
        "    \"Finisher\": {\"Goals\": 0.2, \"xG\": 0.2, \"Shots per 90\": 0.2, \"Shots on target, %\": 0.2, \"Goal conversion, %\": 0.2},\n",
        "    \"Target\": {\"Aerial duels won, %\": 0.2, \"Goals\": 0.2, \"Head goals\": 0.2, \"xG\": 0.2, \"Touches in box per 90\": 0.2},\n",
        "    \"Roamer\": {\"Dribbles per 90\": 0.2, \"Successful dribbles, %\": 0.2, \"Touches in box per 90\": 0.2, \"Progressive runs per 90\": 0.2, \"Accelerations per 90\": 0.2},\n",
        "    \"Wide Threat\": {\"Crosses per 90\": 0.2, \"Accurate crosses, %\": 0.2, \"Dribbles per 90\": 0.2, \"Progressive runs per 90\": 0.2, \"Touches in box per 90\": 0.2},\n",
        "    \"Unlocker\": {\"Key passes per 90\": 0.2, \"Smart passes per 90\": 0.2, \"Accurate smart passes, %\": 0.2, \"Passes to penalty area per 90\": 0.2, \"Accurate passes to penalty area, %\": 0.2},\n",
        "    \"Outlet\": {\"Touches in box per 90\": 0.2, \"Progressive runs per 90\": 0.2, \"Received passes per 90\": 0.2, \"Fouls suffered per 90\": 0.2, \"Dribbles per 90\": 0.2},\n",
        "    \"Box Crasher\": {\"Goals\": 0.2, \"xG\": 0.2, \"Touches in box per 90\": 0.2, \"Shots per 90\": 0.2, \"Progressive runs per 90\": 0.2},\n",
        "    \"Creator\": {\"Key passes per 90\": 0.2, \"Shot assists per 90\": 0.2, \"Smart passes per 90\": 0.2, \"Passes to final third per 90\": 0.2, \"Accurate passes to final third, %\": 0.2},\n",
        "    \"Orchestrator\": {\"Passes per 90\": 0.2, \"Accurate passes, %\": 0.2, \"Forward passes per 90\": 0.2, \"Accurate forward passes, %\": 0.2, \"Progressive passes per 90\": 0.2},\n",
        "    \"Box to Box\": {\"Defensive duels per 90\": 0.2, \"Defensive duels won, %\": 0.2, \"Progressive runs per 90\": 0.2, \"Goals\": 0.2, \"Assists\": 0.2},\n",
        "    \"Distributor\": {\"Passes per 90\": 0.2, \"Accurate passes, %\": 0.2, \"Long passes per 90\": 0.2, \"Accurate long passes, %\": 0.2, \"Progressive passes per 90\": 0.2},\n",
        "    \"Builder\": {\"Passes per 90\": 0.2, \"Accurate passes, %\": 0.2, \"Defensive duels won, %\": 0.2, \"Interceptions per 90\": 0.2, \"Progressive passes per 90\": 0.2},\n",
        "    \"Overlapper\": {\"Crosses per 90\": 0.2, \"Accurate crosses, %\": 0.2, \"Dribbles per 90\": 0.2, \"Progressive runs per 90\": 0.2, \"Passes to penalty area per 90\": 0.2},\n",
        "    \"Progressor\": {\"Progressive passes per 90\": 0.2, \"Accurate progressive passes, %\": 0.2, \"Dribbles per 90\": 0.2, \"Progressive runs per 90\": 0.2, \"Touches in box per 90\": 0.2},\n",
        "    \"Safety\": {\"Defensive duels won, %\": 0.2, \"Interceptions per 90\": 0.2, \"Accurate passes, %\": 0.2, \"Shots blocked per 90\": 0.2, \"Aerial duels won, %\": 0.2},\n",
        "    \"Aggressor\": {\"Defensive duels per 90\": 0.2, \"Sliding tackles per 90\": 0.2, \"Interceptions per 90\": 0.2, \"Fouls per 90\": 0.2, \"Shots blocked per 90\": 0.2},\n",
        "    \"Spreader\": {\"Long passes per 90\": 0.25, \"Accurate long passes, %\": 0.25, \"Progressive passes per 90\": 0.25, \"Accurate progressive passes, %\": 0.25},\n",
        "    \"Anchor\": {\"Defensive duels won, %\": 0.2, \"Interceptions per 90\": 0.2, \"Shots blocked per 90\": 0.2, \"Aerial duels won, %\": 0.2, \"Accurate passes, %\": 0.2}\n",
        "}\n",
        "\n",
        "# Standardize (Z-score) relevant metrics\n",
        "def standardize_metrics(data, metrics):\n",
        "    standardized = {}\n",
        "    for metric in metrics:\n",
        "        if metric in data.columns:\n",
        "            standardized[metric] = zscore(data[metric].fillna(0))\n",
        "        else:\n",
        "            print(f\"Metric '{metric}' not found in dataset.\")\n",
        "    return pd.DataFrame(standardized)\n",
        "\n",
        "# Calculate role scores\n",
        "def calculate_role_scores(data, role_definitions):\n",
        "    role_scores = {}\n",
        "    for role, metrics_weights in role_definitions.items():\n",
        "        metrics = metrics_weights.keys()\n",
        "        weights = metrics_weights.values()\n",
        "\n",
        "        # Standardize metrics for the role\n",
        "        standardized = standardize_metrics(data, metrics)\n",
        "\n",
        "        # Compute weighted Z-scores for the role\n",
        "        if not standardized.empty:\n",
        "            role_scores[role] = standardized.dot(list(weights))\n",
        "\n",
        "    return pd.DataFrame(role_scores)\n",
        "\n",
        "# Compute scores for all roles\n",
        "role_scores = calculate_role_scores(data, roles_metrics_weights)\n",
        "\n",
        "# Combine role scores with player names and teams\n",
        "final_scores = pd.concat([data[[\"Player\", \"Team\"]], role_scores], axis=1)\n",
        "\n",
        "# Save results to an Excel file\n",
        "output_path = '/content/drive/My Drive/player_role_scores.xlsx'\n",
        "final_scores.to_excel(output_path, index=False)\n",
        "\n",
        "print(f\"Role scores calculated and saved to {output_path}.\")\n"
      ]
    },
    {
      "cell_type": "code",
      "source": [
        "from scipy import stats\n",
        "from math import pi\n",
        "\n",
        "# Specify the player name\n",
        "player_name = \"J. Hato\"\n",
        "\n",
        "# Extract player data\n",
        "player = final_scores.loc[final_scores['Player'] == player_name].reset_index(drop=True)\n",
        "\n",
        "if player.empty:\n",
        "    raise ValueError(f\"Player {player_name} not found in dataset.\")\n",
        "\n",
        "# Drop 'Player' column to focus on metrics\n",
        "params = list(final_scores.columns[1:])\n",
        "percentiles = []\n",
        "\n",
        "# Calculate percentiles for the player's metrics\n",
        "for param in params:\n",
        "    percentiles.append(math.floor(stats.percentileofscore(df[param], player[param].iloc[0])))\n",
        "\n",
        "# Create a DataFrame for visualization\n",
        "percentile_df = pd.DataFrame({\n",
        "    'Metric': params,\n",
        "    'Percentile': percentiles\n",
        "}).sort_values(by='Percentile', ascending=False)\n",
        "\n",
        "# Assign colors based on percentile ranges\n",
        "def assign_color(percentile):\n",
        "    if percentile <= 25:\n",
        "        return 'red'\n",
        "    elif 26 <= percentile <= 50:\n",
        "        return 'orange'\n",
        "    elif 51 <= percentile <= 75:\n",
        "        return 'yellow'\n",
        "    else:\n",
        "        return 'green'\n",
        "\n",
        "percentile_df['Color'] = percentile_df['Percentile'].apply(assign_color)\n",
        "\n",
        "# Plot a bar chart with colors\n",
        "plt.figure(figsize=(12, 8))\n",
        "bars = plt.barh(percentile_df['Metric'], percentile_df['Percentile'], color=percentile_df['Color'])\n",
        "\n",
        "# Add labels to the bars\n",
        "for bar, percentile in zip(bars, percentile_df['Percentile']):\n",
        "    plt.text(\n",
        "        bar.get_width() + 2,  # Position label slightly to the right of the bar\n",
        "        bar.get_y() + bar.get_height() / 2,  # Vertically center the label\n",
        "        str(percentile),\n",
        "        va='center', fontsize=10\n",
        "    )\n",
        "\n",
        "plt.xlabel('Percentile', fontsize=14)\n",
        "plt.ylabel('Metrics', fontsize=14)\n",
        "plt.title(f'Percentile Ranks for {player_name}', fontsize=16)\n",
        "plt.gca().invert_yaxis()  # Reverse the order of metrics for better visualization\n",
        "plt.tight_layout()\n",
        "plt.show()"
      ],
      "metadata": {
        "colab": {
          "base_uri": "https://localhost:8080/",
          "height": 211
        },
        "id": "lFfpSrZWBq1z",
        "outputId": "68b1586c-beea-4990-a5fb-ef22ab9e7456"
      },
      "execution_count": null,
      "outputs": [
        {
          "output_type": "error",
          "ename": "NameError",
          "evalue": "name 'math' is not defined",
          "traceback": [
            "\u001b[0;31m---------------------------------------------------------------------------\u001b[0m",
            "\u001b[0;31mNameError\u001b[0m                                 Traceback (most recent call last)",
            "\u001b[0;32m<ipython-input-17-f4665d838219>\u001b[0m in \u001b[0;36m<cell line: 0>\u001b[0;34m()\u001b[0m\n\u001b[1;32m     17\u001b[0m \u001b[0;31m# Calculate percentiles for the player's metrics\u001b[0m\u001b[0;34m\u001b[0m\u001b[0;34m\u001b[0m\u001b[0m\n\u001b[1;32m     18\u001b[0m \u001b[0;32mfor\u001b[0m \u001b[0mparam\u001b[0m \u001b[0;32min\u001b[0m \u001b[0mparams\u001b[0m\u001b[0;34m:\u001b[0m\u001b[0;34m\u001b[0m\u001b[0;34m\u001b[0m\u001b[0m\n\u001b[0;32m---> 19\u001b[0;31m     \u001b[0mpercentiles\u001b[0m\u001b[0;34m.\u001b[0m\u001b[0mappend\u001b[0m\u001b[0;34m(\u001b[0m\u001b[0mmath\u001b[0m\u001b[0;34m.\u001b[0m\u001b[0mfloor\u001b[0m\u001b[0;34m(\u001b[0m\u001b[0mstats\u001b[0m\u001b[0;34m.\u001b[0m\u001b[0mpercentileofscore\u001b[0m\u001b[0;34m(\u001b[0m\u001b[0mdf\u001b[0m\u001b[0;34m[\u001b[0m\u001b[0mparam\u001b[0m\u001b[0;34m]\u001b[0m\u001b[0;34m,\u001b[0m \u001b[0mplayer\u001b[0m\u001b[0;34m[\u001b[0m\u001b[0mparam\u001b[0m\u001b[0;34m]\u001b[0m\u001b[0;34m.\u001b[0m\u001b[0miloc\u001b[0m\u001b[0;34m[\u001b[0m\u001b[0;36m0\u001b[0m\u001b[0;34m]\u001b[0m\u001b[0;34m)\u001b[0m\u001b[0;34m)\u001b[0m\u001b[0;34m)\u001b[0m\u001b[0;34m\u001b[0m\u001b[0;34m\u001b[0m\u001b[0m\n\u001b[0m\u001b[1;32m     20\u001b[0m \u001b[0;34m\u001b[0m\u001b[0m\n\u001b[1;32m     21\u001b[0m \u001b[0;31m# Create a DataFrame for visualization\u001b[0m\u001b[0;34m\u001b[0m\u001b[0;34m\u001b[0m\u001b[0m\n",
            "\u001b[0;31mNameError\u001b[0m: name 'math' is not defined"
          ]
        }
      ]
    },
    {
      "cell_type": "code",
      "source": [],
      "metadata": {
        "id": "n5oT1CKKHMAk"
      },
      "execution_count": null,
      "outputs": []
    }
  ]
}