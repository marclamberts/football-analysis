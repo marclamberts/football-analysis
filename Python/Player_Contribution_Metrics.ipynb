{
 "cells": [
  {
   "cell_type": "code",
   "execution_count": null,
   "id": "cell-id",
   "metadata": {},
   "outputs": [],
   "source": ['import pandas as pd', '', '# Sample Data: Player statistics for a few players', 'data = {', "    'Player': ['Player A', 'Player B', 'Player C'],", "    'Minutes Played': [1800, 1500, 2000],", "    'Goals': [10, 5, 8],", "    'xG': [8.5, 4.2, 7.3],", "    'Assists': [7, 3, 6],", "    'xA': [6.2, 3.5, 5.1],", "    'Shot Creating Actions': [60, 45, 70],", "    'Tackles': [50, 60, 40],", "    'Interceptions': [30, 40, 25],", "    'Blocks': [10, 15, 8],", "    'Progressive Passes': [80, 50, 90],", "    'Key Passes': [25, 20, 30],", "    'Dribbles': [15, 10, 20]", '}', '', '# Create DataFrame', 'df = pd.DataFrame(data)', '', '# Normalize per 90 minutes', 'def normalize_per_90(row, stat):', "    return (row[stat] / row['Minutes Played']) * 90", '', "normalized_stats = ['Goals', 'xG', 'Assists', 'xA', 'Shot Creating Actions', 'Tackles',", "                    'Interceptions', 'Blocks', 'Progressive Passes', 'Key Passes', 'Dribbles']", '', 'for stat in normalized_stats:', "    df[f'{stat} per 90'] = df.apply(lambda row: normalize_per_90(row, stat), axis=1)", '', '# Calculate sub-metrics', '# Offensive Contribution', "df['Offensive Contribution'] = (", "    df['xG per 90'] +", "    (df['Assists per 90'] * 0.75) +", "    (df['Shot Creating Actions per 90'] * 0.1)", ')', '', '# Defensive Contribution', "df['Defensive Contribution'] = (", "    (df['Tackles per 90'] * 0.5) +", "    (df['Interceptions per 90'] * 0.4) +", "    (df['Blocks per 90'] * 0.3)", ')', '', '# Transitional Contribution', "df['Transitional Contribution'] = (", "    (df['Progressive Passes per 90'] * 0.3) +", "    (df['Key Passes per 90'] * 0.5) +", "    (df['Dribbles per 90'] * 0.2)", ')', '', '# Aggregate Goals Added (GA) Metric', "df['Goals Added (GA)'] = (", "    (df['Offensive Contribution'] * 0.5) +", "    (df['Defensive Contribution'] * 0.3) +", "    (df['Transitional Contribution'] * 0.2)", ')', '', '# Display Results', 'import ace_tools as tools; tools.display_dataframe_to_user(name="Player Contribution Metrics", dataframe=df)']
  }
 ],
 "metadata": {},
 "nbformat": 4,
 "nbformat_minor": 4
}
