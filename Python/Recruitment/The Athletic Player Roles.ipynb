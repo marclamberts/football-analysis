{
 "cells": [
  {
   "cell_type": "code",
   "execution_count": 1,
   "id": "49e87eef",
   "metadata": {},
   "outputs": [
    {
     "name": "stdout",
     "output_type": "stream",
     "text": [
      "Metric 'Shots on target %' not found in dataset.\n",
      "Metric 'Conversion rate %' not found in dataset.\n",
      "Metric 'Shot accuracy %' not found in dataset.\n"
     ]
    },
    {
     "ename": "ValueError",
     "evalue": "Dot product shape mismatch, (500, 3) vs (6,)",
     "output_type": "error",
     "traceback": [
      "\u001b[0;31m---------------------------------------------------------------------------\u001b[0m",
      "\u001b[0;31mValueError\u001b[0m                                Traceback (most recent call last)",
      "Cell \u001b[0;32mIn[1], line 55\u001b[0m\n\u001b[1;32m     52\u001b[0m     \u001b[38;5;28;01mreturn\u001b[39;00m pd\u001b[38;5;241m.\u001b[39mDataFrame(role_scores)\n\u001b[1;32m     54\u001b[0m \u001b[38;5;66;03m# Compute scores for all roles\u001b[39;00m\n\u001b[0;32m---> 55\u001b[0m role_scores \u001b[38;5;241m=\u001b[39m \u001b[43mcalculate_role_scores\u001b[49m\u001b[43m(\u001b[49m\u001b[43mdata\u001b[49m\u001b[43m,\u001b[49m\u001b[43m \u001b[49m\u001b[43mroles_metrics_weights\u001b[49m\u001b[43m)\u001b[49m\n\u001b[1;32m     57\u001b[0m \u001b[38;5;66;03m# Combine role scores with player names and teams\u001b[39;00m\n\u001b[1;32m     58\u001b[0m final_scores \u001b[38;5;241m=\u001b[39m pd\u001b[38;5;241m.\u001b[39mconcat([data[[\u001b[38;5;124m\"\u001b[39m\u001b[38;5;124mPlayer\u001b[39m\u001b[38;5;124m\"\u001b[39m, \u001b[38;5;124m\"\u001b[39m\u001b[38;5;124mTeam\u001b[39m\u001b[38;5;124m\"\u001b[39m]], role_scores], axis\u001b[38;5;241m=\u001b[39m\u001b[38;5;241m1\u001b[39m)\n",
      "Cell \u001b[0;32mIn[1], line 50\u001b[0m, in \u001b[0;36mcalculate_role_scores\u001b[0;34m(data, role_definitions)\u001b[0m\n\u001b[1;32m     47\u001b[0m     standardized \u001b[38;5;241m=\u001b[39m standardize_metrics(data, metrics)\n\u001b[1;32m     49\u001b[0m     \u001b[38;5;66;03m# Compute weighted Z-scores for the role\u001b[39;00m\n\u001b[0;32m---> 50\u001b[0m     role_scores[role] \u001b[38;5;241m=\u001b[39m \u001b[43mstandardized\u001b[49m\u001b[38;5;241;43m.\u001b[39;49m\u001b[43mdot\u001b[49m\u001b[43m(\u001b[49m\u001b[38;5;28;43mlist\u001b[39;49m\u001b[43m(\u001b[49m\u001b[43mweights\u001b[49m\u001b[43m)\u001b[49m\u001b[43m)\u001b[49m\n\u001b[1;32m     52\u001b[0m \u001b[38;5;28;01mreturn\u001b[39;00m pd\u001b[38;5;241m.\u001b[39mDataFrame(role_scores)\n",
      "File \u001b[0;32m~/anaconda3/lib/python3.10/site-packages/pandas/core/frame.py:1519\u001b[0m, in \u001b[0;36mDataFrame.dot\u001b[0;34m(self, other)\u001b[0m\n\u001b[1;32m   1517\u001b[0m     rvals \u001b[38;5;241m=\u001b[39m np\u001b[38;5;241m.\u001b[39masarray(other)\n\u001b[1;32m   1518\u001b[0m     \u001b[38;5;28;01mif\u001b[39;00m lvals\u001b[38;5;241m.\u001b[39mshape[\u001b[38;5;241m1\u001b[39m] \u001b[38;5;241m!=\u001b[39m rvals\u001b[38;5;241m.\u001b[39mshape[\u001b[38;5;241m0\u001b[39m]:\n\u001b[0;32m-> 1519\u001b[0m         \u001b[38;5;28;01mraise\u001b[39;00m \u001b[38;5;167;01mValueError\u001b[39;00m(\n\u001b[1;32m   1520\u001b[0m             \u001b[38;5;124mf\u001b[39m\u001b[38;5;124m\"\u001b[39m\u001b[38;5;124mDot product shape mismatch, \u001b[39m\u001b[38;5;132;01m{\u001b[39;00mlvals\u001b[38;5;241m.\u001b[39mshape\u001b[38;5;132;01m}\u001b[39;00m\u001b[38;5;124m vs \u001b[39m\u001b[38;5;132;01m{\u001b[39;00mrvals\u001b[38;5;241m.\u001b[39mshape\u001b[38;5;132;01m}\u001b[39;00m\u001b[38;5;124m\"\u001b[39m\n\u001b[1;32m   1521\u001b[0m         )\n\u001b[1;32m   1523\u001b[0m \u001b[38;5;28;01mif\u001b[39;00m \u001b[38;5;28misinstance\u001b[39m(other, DataFrame):\n\u001b[1;32m   1524\u001b[0m     \u001b[38;5;28;01mreturn\u001b[39;00m \u001b[38;5;28mself\u001b[39m\u001b[38;5;241m.\u001b[39m_constructor(\n\u001b[1;32m   1525\u001b[0m         np\u001b[38;5;241m.\u001b[39mdot(lvals, rvals), index\u001b[38;5;241m=\u001b[39mleft\u001b[38;5;241m.\u001b[39mindex, columns\u001b[38;5;241m=\u001b[39mother\u001b[38;5;241m.\u001b[39mcolumns\n\u001b[1;32m   1526\u001b[0m     )\n",
      "\u001b[0;31mValueError\u001b[0m: Dot product shape mismatch, (500, 3) vs (6,)"
     ]
    }
   ],
   "source": [
    "import pandas as pd\n",
    "from scipy.stats import zscore\n",
    "\n",
    "# Load the dataset\n",
    "data = pd.read_excel('/Users/marclambertes/Downloads/Wyscout/EP.xlsx')\n",
    "\n",
    "# Define metrics for each role and weights\n",
    "roles_metrics_weights = {\n",
    "    \"Finisher\": {\"Goals\": 0.2, \"Shots on target %\": 0.15, \"xG\": 0.15, \"Conversion rate %\": 0.15, \"Touches in box per 90\": 0.2, \"Shot accuracy %\": 0.15},\n",
    "    \"Target\": {\"Aerial duels won %\": 0.2, \"Goals\": 0.15, \"Touches in box per 90\": 0.15, \"xG\": 0.15, \"Hold up play per 90\": 0.2, \"Headers on target %\": 0.15},\n",
    "    \"Roamer\": {\"Key passes per 90\": 0.2, \"Dribbles per 90\": 0.15, \"Assists\": 0.15, \"Progressive passes per 90\": 0.15, \"Touches in final third per 90\": 0.2, \"Carries into box per 90\": 0.15},\n",
    "    \"Wide Threat\": {\"Crosses per 90\": 0.2, \"Touches in box per 90\": 0.15, \"Dribbles per 90\": 0.15, \"Shot creating actions per 90\": 0.15, \"Key passes per 90\": 0.2, \"Passes into box per 90\": 0.15},\n",
    "    \"Unlocker\": {\"Key passes per 90\": 0.2, \"Cross accuracy %\": 0.15, \"Assists\": 0.15, \"Progressive passes per 90\": 0.15, \"Shot creating actions per 90\": 0.2, \"Passes into box per 90\": 0.15},\n",
    "    \"Outlet\": {\"Progressive passes received per 90\": 0.2, \"Fouls won per 90\": 0.15, \"Dribbles per 90\": 0.15, \"Touches in final third per 90\": 0.15, \"Pass completion %\": 0.2, \"Carries into box per 90\": 0.15},\n",
    "    \"Box Crasher\": {\"Goals\": 0.2, \"Touches in box per 90\": 0.15, \"Dribbles per 90\": 0.15, \"xG\": 0.15, \"Shot accuracy %\": 0.2, \"Key passes per 90\": 0.15},\n",
    "    \"Creator\": {\"Key passes per 90\": 0.2, \"Assists\": 0.2, \"Shot creating actions per 90\": 0.2, \"Progressive passes per 90\": 0.15, \"Passes into box per 90\": 0.15, \"Crosses per 90\": 0.1},\n",
    "    \"Orchestrator\": {\"Pass accuracy %\": 0.2, \"Progressive passes per 90\": 0.2, \"Touches per 90\": 0.15, \"Switches of play per 90\": 0.15, \"Key passes per 90\": 0.15, \"Shot creating actions per 90\": 0.15},\n",
    "    \"Box to Box\": {\"Defensive duels won %\": 0.2, \"Progressive runs per 90\": 0.2, \"Goals\": 0.15, \"Key passes per 90\": 0.15, \"Touches per 90\": 0.15, \"Dribbles per 90\": 0.15},\n",
    "    \"Distributor\": {\"Progressive passes per 90\": 0.2, \"Long passes per 90\": 0.2, \"Switches of play per 90\": 0.2, \"Pass accuracy %\": 0.15, \"Touches per 90\": 0.15, \"Passes into box per 90\": 0.1},\n",
    "    \"Builder\": {\"Pass accuracy %\": 0.2, \"Defensive duels won %\": 0.2, \"Touches per 90\": 0.15, \"Progressive passes per 90\": 0.15, \"Long passes per 90\": 0.15, \"Interceptions per 90\": 0.15},\n",
    "    \"Overlapper\": {\"Crosses per 90\": 0.2, \"Dribbles per 90\": 0.2, \"Assists\": 0.15, \"Touches in final third per 90\": 0.15, \"Progressive runs per 90\": 0.15, \"Passes into box per 90\": 0.15},\n",
    "    \"Progressor\": {\"Progressive passes per 90\": 0.2, \"Dribbles per 90\": 0.2, \"Touches per 90\": 0.15, \"Switches of play per 90\": 0.15, \"Carries into box per 90\": 0.15, \"Passes into box per 90\": 0.15},\n",
    "    \"Safety\": {\"Defensive duels won %\": 0.2, \"Clearances per 90\": 0.2, \"Interceptions per 90\": 0.15, \"Pass accuracy %\": 0.15, \"Blocks per 90\": 0.15, \"Aerial duels won %\": 0.15},\n",
    "    \"Aggressor\": {\"Tackles per 90\": 0.2, \"Interceptions per 90\": 0.2, \"Defensive duels won %\": 0.15, \"Clearances per 90\": 0.15, \"Fouls per 90\": 0.15, \"Blocks per 90\": 0.15},\n",
    "    \"Spreader\": {\"Long passes per 90\": 0.2, \"Pass accuracy %\": 0.2, \"Switches of play per 90\": 0.2, \"Touches per 90\": 0.15, \"Progressive passes per 90\": 0.15, \"Passes into box per 90\": 0.1},\n",
    "    \"Anchor\": {\"Clearances per 90\": 0.2, \"Blocks per 90\": 0.2, \"Interceptions per 90\": 0.15, \"Aerial duels won %\": 0.15, \"Defensive duels won %\": 0.15, \"Pass accuracy %\": 0.15}\n",
    "}\n",
    "\n",
    "# Standardize (Z-score) relevant metrics\n",
    "def standardize_metrics(data, metrics):\n",
    "    standardized = {}\n",
    "    for metric in metrics:\n",
    "        if metric in data.columns:\n",
    "            standardized[metric] = zscore(data[metric].fillna(0))\n",
    "        else:\n",
    "            print(f\"Metric '{metric}' not found in dataset.\")\n",
    "    return pd.DataFrame(standardized)\n",
    "\n",
    "# Calculate role scores\n",
    "def calculate_role_scores(data, role_definitions):\n",
    "    role_scores = {}\n",
    "    for role, metrics_weights in role_definitions.items():\n",
    "        metrics = metrics_weights.keys()\n",
    "        weights = metrics_weights.values()\n",
    "\n",
    "        # Standardize metrics for the role\n",
    "        standardized = standardize_metrics(data, metrics)\n",
    "\n",
    "        # Compute weighted Z-scores for the role\n",
    "        role_scores[role] = standardized.dot(list(weights))\n",
    "\n",
    "    return pd.DataFrame(role_scores)\n",
    "\n",
    "# Compute scores for all roles\n",
    "role_scores = calculate_role_scores(data, roles_metrics_weights)\n",
    "\n",
    "# Combine role scores with player names and teams\n",
    "final_scores = pd.concat([data[[\"Player\", \"Team\"]], role_scores], axis=1)\n",
    "\n",
    "# Save results to an Excel file\n",
    "output_path = '/mnt/data/player_role_scores.xlsx'\n",
    "final_scores.to_excel(output_path, index=False)\n",
    "\n",
    "print(f\"Role scores calculated and saved to {output_path}.\")"
   ]
  },
  {
   "cell_type": "code",
   "execution_count": null,
   "id": "e20093ab",
   "metadata": {},
   "outputs": [],
   "source": []
  }
 ],
 "metadata": {
  "kernelspec": {
   "display_name": "Python 3 (ipykernel)",
   "language": "python",
   "name": "python3"
  },
  "language_info": {
   "codemirror_mode": {
    "name": "ipython",
    "version": 3
   },
   "file_extension": ".py",
   "mimetype": "text/x-python",
   "name": "python",
   "nbconvert_exporter": "python",
   "pygments_lexer": "ipython3",
   "version": "3.10.9"
  }
 },
 "nbformat": 4,
 "nbformat_minor": 5
}
